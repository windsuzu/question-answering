{
 "cells": [
  {
   "cell_type": "code",
   "execution_count": 1,
   "metadata": {},
   "outputs": [],
   "source": [
    "import torch\n",
    "from transformers import AutoModelForQuestionAnswering, AutoTokenizer, pipeline"
   ]
  },
  {
   "cell_type": "code",
   "execution_count": 2,
   "metadata": {},
   "outputs": [],
   "source": [
    "model_name = \"deepset/bert-base-cased-squad2\"\n",
    "model = AutoModelForQuestionAnswering.from_pretrained(model_name)\n",
    "tokenizer = AutoTokenizer.from_pretrained(model_name)"
   ]
  },
  {
   "cell_type": "code",
   "execution_count": 3,
   "metadata": {},
   "outputs": [],
   "source": [
    "def qa(context, question):\n",
    "    inputs = tokenizer.encode_plus(question, context, return_tensors=\"pt\")\n",
    "    tokens = tokenizer.convert_ids_to_tokens(inputs[\"input_ids\"][0])\n",
    "    predicts = model(**inputs)\n",
    "    answer_start = torch.argmax(predicts.start_logits)\n",
    "    answer_end = torch.argmax(predicts.end_logits) + 1\n",
    "\n",
    "    print(\"Question:\", question)\n",
    "    print(\"Answer:\", tokenizer.convert_tokens_to_string(tokens[answer_start:answer_end]))\n",
    "    print()"
   ]
  },
  {
   "cell_type": "code",
   "execution_count": 4,
   "metadata": {},
   "outputs": [
    {
     "name": "stdout",
     "output_type": "stream",
     "text": [
      "Question: What is happening?\n",
      "Answer: a protest movement that has spurred thousands of people to take up arms against the powerful army\n",
      "\n",
      "Question: When was the coup?\n",
      "Answer: Feb. 1\n",
      "\n",
      "Question: Who still remains popularity?\n",
      "Answer: Aung San Suu Kyi\n",
      "\n",
      "Question: What is the new group's name?\n",
      "Answer: National Unity Government\n",
      "\n",
      "Question: How many people were killed?\n",
      "Answer: more than 1, 300\n",
      "\n",
      "Question: How many people were arrested?\n",
      "Answer: 1, 300\n",
      "\n"
     ]
    }
   ],
   "source": [
    "context = \"\"\"Ousted civilian leader sentenced by Myanmar court\n",
    "Aung San Suu Kyi, Myanmar’s former civilian leader who was detained by the country’s military in a Feb. 1 coup, was convicted on Monday for inciting public unrest and breaching Covid-19 protocols.\n",
    "\n",
    "Her trials, which the U.N. and foreign governments have described as politically motivated, have been held in closed-door hearings in Myanmar’s capital. The initial four-year sentence was quickly reduced to two years, of which she has already served 10 months. But she still faces nine other charges that could keep her locked up for the rest of her life.\n",
    "\n",
    "The guilty verdict is likely to galvanize a protest movement that has spurred thousands of people to take up arms against the powerful army. While Aung San Suu Kyi remains widely popular, a new democratic movement has emerged that is younger, more progressive, more confrontational and ready to look beyond past leaders.\n",
    "\n",
    "This new group, known as the National Unity Government, operates underground schools, clinics and hospitals. And although Aung San Suu Kyi is considered one of the group’s top leaders, it has distanced itself from some of her politics, especially policies concerning ethnic minorities such as Rohingya Muslims.\n",
    "\n",
    "Crackdown: Protests have not let up since the February coup, and neither has the military response. The junta has killed more than 1,300 people and arrested more than 10,600 others, according to a rights organization.\"\"\"\n",
    "\n",
    "qa(context, \"What is happening?\")\n",
    "qa(context, \"When was the coup?\")\n",
    "qa(context, \"Who still remains popularity?\")\n",
    "qa(context, \"What is the new group's name?\")\n",
    "qa(context, \"How many people were killed?\")\n",
    "qa(context, \"How many people were arrested?\")"
   ]
  }
 ],
 "metadata": {
  "interpreter": {
   "hash": "7f70d5b6488eff3ab7e6a6dbabbd0a5afcf1d1da8d76c577aa067863dcf1b32b"
  },
  "kernelspec": {
   "display_name": "Python 3.9.7 64-bit ('py39': conda)",
   "language": "python",
   "name": "python3"
  },
  "language_info": {
   "codemirror_mode": {
    "name": "ipython",
    "version": 3
   },
   "file_extension": ".py",
   "mimetype": "text/x-python",
   "name": "python",
   "nbconvert_exporter": "python",
   "pygments_lexer": "ipython3",
   "version": "3.9.7"
  },
  "orig_nbformat": 4
 },
 "nbformat": 4,
 "nbformat_minor": 2
}
